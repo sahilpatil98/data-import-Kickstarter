{
 "cells": [
  {
   "cell_type": "markdown",
   "id": "389d49ba-c86e-4c0e-af72-8b6e65581c9b",
   "metadata": {},
   "source": [
    "# Importing Spark Libraries"
   ]
  },
  {
   "cell_type": "code",
   "execution_count": 1,
   "id": "6c5dbc51-5ab7-4821-92b0-d59dc4fdb337",
   "metadata": {},
   "outputs": [
    {
     "data": {
      "text/html": [
       "\n",
       "            <div>\n",
       "                <p><b>SparkSession - in-memory</b></p>\n",
       "                \n",
       "        <div>\n",
       "            <p><b>SparkContext</b></p>\n",
       "\n",
       "            <p><a href=\"http://d0tz:4040\">Spark UI</a></p>\n",
       "\n",
       "            <dl>\n",
       "              <dt>Version</dt>\n",
       "                <dd><code>v3.5.1</code></dd>\n",
       "              <dt>Master</dt>\n",
       "                <dd><code>local[*]</code></dd>\n",
       "              <dt>AppName</dt>\n",
       "                <dd><code>pyspark-shell</code></dd>\n",
       "            </dl>\n",
       "        </div>\n",
       "        \n",
       "            </div>\n",
       "        "
      ],
      "text/plain": [
       "<pyspark.sql.session.SparkSession at 0x21e536fb750>"
      ]
     },
     "execution_count": 1,
     "metadata": {},
     "output_type": "execute_result"
    }
   ],
   "source": [
    "import findspark\n",
    "findspark.init()\n",
    "import pyspark\n",
    "from pyspark.sql import SparkSession\n",
    "# Lets read the Multiline JSON\n",
    "from pyspark.sql.functions import explode\n",
    "\n",
    "spark = SparkSession.builder.getOrCreate()\n",
    "spark"
   ]
  },
  {
   "cell_type": "markdown",
   "id": "c49bb7e0-e546-47ca-8b82-a184e3dd3dcd",
   "metadata": {},
   "source": [
    "# Import 2015 and Older Data"
   ]
  },
  {
   "cell_type": "code",
   "execution_count": 2,
   "id": "6e13eaeb-207a-4ca9-8df3-0eaedb9aa425",
   "metadata": {},
   "outputs": [
    {
     "name": "stdout",
     "output_type": "stream",
     "text": [
      "First file: Kickstarter_2014-04-22.json processed\n",
      "Union Succesful for Kickstarter_2014-08-13.json\n",
      "Union Succesful for Kickstarter_2014-10-17.json\n",
      "Union Succesful for Kickstarter_2014-12-02.json\n",
      "Union Succesful for Kickstarter_2015-04-02.json\n"
     ]
    }
   ],
   "source": [
    "import os \n",
    "\n",
    "first_file_processed = False\n",
    "\n",
    "\n",
    "for dirname, _, filenames in os.walk(r\"D:\\Data\\Kickstarter Data\\2015_and_older\"):\n",
    "    for filename in filenames:\n",
    "        if not first_file_processed:\n",
    "            data = spark.read.json(os.path.join(dirname, filename), multiLine = True).withColumn('projects', explode('projects'))\n",
    "            first_file_processed = True\n",
    "            print(f'First file: {filename} processed')\n",
    "        else:\n",
    "            df = spark.read.json(os.path.join(dirname, filename), multiLine = True).withColumn('projects', explode('projects'))\n",
    "            data = data.unionByName(df, allowMissingColumns=True)\n",
    "            print(f'Union Succesful for {filename}')"
   ]
  },
  {
   "cell_type": "code",
   "execution_count": 3,
   "id": "bffeede0-9641-4412-bd98-657278eeabc3",
   "metadata": {
    "scrolled": true
   },
   "outputs": [
    {
     "name": "stdout",
     "output_type": "stream",
     "text": [
      "root\n",
      " |-- projects: struct (nullable = true)\n",
      " |    |-- backers_count: long (nullable = true)\n",
      " |    |-- blurb: string (nullable = true)\n",
      " |    |-- category: struct (nullable = true)\n",
      " |    |    |-- id: long (nullable = true)\n",
      " |    |    |-- name: string (nullable = true)\n",
      " |    |    |-- parent_id: long (nullable = true)\n",
      " |    |    |-- position: long (nullable = true)\n",
      " |    |    |-- slug: string (nullable = true)\n",
      " |    |    |-- urls: struct (nullable = true)\n",
      " |    |    |    |-- web: struct (nullable = true)\n",
      " |    |    |    |    |-- discover: string (nullable = true)\n",
      " |    |-- country: string (nullable = true)\n",
      " |    |-- created_at: long (nullable = true)\n",
      " |    |-- creator: struct (nullable = true)\n",
      " |    |    |-- avatar: struct (nullable = true)\n",
      " |    |    |    |-- medium: string (nullable = true)\n",
      " |    |    |    |-- small: string (nullable = true)\n",
      " |    |    |    |-- thumb: string (nullable = true)\n",
      " |    |    |-- id: long (nullable = true)\n",
      " |    |    |-- name: string (nullable = true)\n",
      " |    |    |-- slug: string (nullable = true)\n",
      " |    |    |-- urls: struct (nullable = true)\n",
      " |    |    |    |-- api: struct (nullable = true)\n",
      " |    |    |    |    |-- user: string (nullable = true)\n",
      " |    |    |    |-- web: struct (nullable = true)\n",
      " |    |    |    |    |-- user: string (nullable = true)\n",
      " |    |-- currency: string (nullable = true)\n",
      " |    |-- currency_symbol: string (nullable = true)\n",
      " |    |-- currency_trailing_code: boolean (nullable = true)\n",
      " |    |-- deadline: long (nullable = true)\n",
      " |    |-- disable_communication: boolean (nullable = true)\n",
      " |    |-- goal: double (nullable = true)\n",
      " |    |-- id: long (nullable = true)\n",
      " |    |-- launched_at: long (nullable = true)\n",
      " |    |-- location: struct (nullable = true)\n",
      " |    |    |-- country: string (nullable = true)\n",
      " |    |    |-- displayable_name: string (nullable = true)\n",
      " |    |    |-- id: long (nullable = true)\n",
      " |    |    |-- name: string (nullable = true)\n",
      " |    |    |-- short_name: string (nullable = true)\n",
      " |    |    |-- slug: string (nullable = true)\n",
      " |    |    |-- state: string (nullable = true)\n",
      " |    |    |-- urls: struct (nullable = true)\n",
      " |    |    |    |-- api: struct (nullable = true)\n",
      " |    |    |    |    |-- nearby_projects: string (nullable = true)\n",
      " |    |    |    |-- web: struct (nullable = true)\n",
      " |    |    |    |    |-- discover: string (nullable = true)\n",
      " |    |    |    |    |-- location: string (nullable = true)\n",
      " |    |    |-- is_root: boolean (nullable = true)\n",
      " |    |    |-- type: string (nullable = true)\n",
      " |    |-- name: string (nullable = true)\n",
      " |    |-- photo: struct (nullable = true)\n",
      " |    |    |-- 1024x768: string (nullable = true)\n",
      " |    |    |-- 1536x1152: string (nullable = true)\n",
      " |    |    |-- ed: string (nullable = true)\n",
      " |    |    |-- full: string (nullable = true)\n",
      " |    |    |-- little: string (nullable = true)\n",
      " |    |    |-- med: string (nullable = true)\n",
      " |    |    |-- small: string (nullable = true)\n",
      " |    |    |-- thumb: string (nullable = true)\n",
      " |    |-- pledged: double (nullable = true)\n",
      " |    |-- slug: string (nullable = true)\n",
      " |    |-- state: string (nullable = true)\n",
      " |    |-- state_changed_at: long (nullable = true)\n",
      " |    |-- urls: struct (nullable = true)\n",
      " |    |    |-- web: struct (nullable = true)\n",
      " |    |    |    |-- project: string (nullable = true)\n",
      " |    |    |    |-- rewards: string (nullable = true)\n",
      " |    |-- profile: struct (nullable = true)\n",
      " |    |    |-- background_color: string (nullable = true)\n",
      " |    |    |-- background_image_attributes: struct (nullable = true)\n",
      " |    |    |    |-- id: long (nullable = true)\n",
      " |    |    |    |-- image_urls: struct (nullable = true)\n",
      " |    |    |    |    |-- default: string (nullable = true)\n",
      " |    |    |-- background_image_opacity: double (nullable = true)\n",
      " |    |    |-- blurb: string (nullable = true)\n",
      " |    |    |-- feature_image_attributes: struct (nullable = true)\n",
      " |    |    |    |-- id: long (nullable = true)\n",
      " |    |    |    |-- image_urls: struct (nullable = true)\n",
      " |    |    |    |    |-- default: string (nullable = true)\n",
      " |    |    |-- id: long (nullable = true)\n",
      " |    |    |-- link_background_color: string (nullable = true)\n",
      " |    |    |-- link_text: string (nullable = true)\n",
      " |    |    |-- link_text_color: string (nullable = true)\n",
      " |    |    |-- link_url: string (nullable = true)\n",
      " |    |    |-- name: string (nullable = true)\n",
      " |    |    |-- project_id: long (nullable = true)\n",
      " |    |    |-- should_show_feature_image: boolean (nullable = true)\n",
      " |    |    |-- show_feature_image: boolean (nullable = true)\n",
      " |    |    |-- state: string (nullable = true)\n",
      " |    |    |-- state_changed_at: long (nullable = true)\n",
      " |    |    |-- text_color: string (nullable = true)\n",
      " |    |-- spotlight: boolean (nullable = true)\n",
      " |    |-- static_usd_rate: string (nullable = true)\n",
      " |    |-- usd_pledged: string (nullable = true)\n",
      " |-- seed: string (nullable = true)\n",
      " |-- total_hits: long (nullable = true)\n",
      " |-- colloquial_title: string (nullable = true)\n",
      " |-- see_more: string (nullable = true)\n",
      "\n"
     ]
    }
   ],
   "source": [
    "data.printSchema()"
   ]
  },
  {
   "cell_type": "code",
   "execution_count": 4,
   "id": "60bf9ef5-ea98-4dd3-943d-188a4f909f4d",
   "metadata": {},
   "outputs": [
    {
     "name": "stdout",
     "output_type": "stream",
     "text": [
      "+--------------------+\n",
      "|                name|\n",
      "+--------------------+\n",
      "|      Maridee Slater|\n",
      "|April Yvette Thom...|\n",
      "|        Lucile Scott|\n",
      "|  Three Day Hangover|\n",
      "|      Throes Theater|\n",
      "+--------------------+\n",
      "only showing top 5 rows\n",
      "\n"
     ]
    }
   ],
   "source": [
    "data.select('projects.creator.name').show(5)"
   ]
  },
  {
   "cell_type": "markdown",
   "id": "5fc12d31-a11d-466e-ae9a-5f85872d0406",
   "metadata": {},
   "source": [
    "# Code to import 2015/10/22"
   ]
  },
  {
   "cell_type": "code",
   "execution_count": 5,
   "id": "33e8766a-f85c-47df-98e2-c9cdeaf146cc",
   "metadata": {},
   "outputs": [],
   "source": [
    "data1 = spark.read.json(r\"D:\\Data\\Kickstarter Data\\2015_new\\Kickstarter_2015-10-22T09_57_48_703Z.json\", multiLine = False).\\\n",
    "        withColumn('data.projects', explode('data.projects')).\\\n",
    "        drop('data',\n",
    "            'created_at',\n",
    "            'id',\n",
    "            'robot_id',\n",
    "            'run_id',\n",
    "            'table_id').withColumnRenamed('data.projects', 'projects')"
   ]
  },
  {
   "cell_type": "code",
   "execution_count": 6,
   "id": "bb68e8b4-a85b-44d2-b0c6-d248d862e6c5",
   "metadata": {},
   "outputs": [
    {
     "name": "stdout",
     "output_type": "stream",
     "text": [
      "+----------------+\n",
      "|            name|\n",
      "+----------------+\n",
      "|Jamie Schumacher|\n",
      "|    LittleBerlin|\n",
      "|    Jerry Snyder|\n",
      "| Blake McConnell|\n",
      "|       Owen Cook|\n",
      "+----------------+\n",
      "only showing top 5 rows\n",
      "\n"
     ]
    }
   ],
   "source": [
    "data1.select('projects.creator.name').show(5)"
   ]
  },
  {
   "cell_type": "code",
   "execution_count": 7,
   "id": "17a7af6a-3551-4b45-933a-9b61ff71859f",
   "metadata": {},
   "outputs": [],
   "source": [
    "data2 = spark.read.json(r\"D:\\Data\\Kickstarter Data\\2015_new\\Kickstarter_2015-11-01T14_09_04_557Z.json\").\\\n",
    "        withColumnRenamed('data', 'projects').\\\n",
    "        drop('created_at',\n",
    "            'id',\n",
    "            'robot_id',\n",
    "            'run_id',\n",
    "            'table_id')\n",
    "\n"
   ]
  },
  {
   "cell_type": "code",
   "execution_count": 8,
   "id": "ce587a03-2c5e-476a-a36e-546ba65ed4cb",
   "metadata": {},
   "outputs": [
    {
     "name": "stdout",
     "output_type": "stream",
     "text": [
      "+-------------------+\n",
      "|               name|\n",
      "+-------------------+\n",
      "| Reedsburg ArtsLink|\n",
      "|      Natasha Marin|\n",
      "|Luci Riffel (LUCI∆)|\n",
      "|        Brian Quinn|\n",
      "|            Rebecca|\n",
      "+-------------------+\n",
      "only showing top 5 rows\n",
      "\n"
     ]
    }
   ],
   "source": [
    "data2.select('projects.creator.name').show(5)"
   ]
  },
  {
   "cell_type": "code",
   "execution_count": 9,
   "id": "90e39ef5-7d3d-4701-9218-3507ac73be84",
   "metadata": {},
   "outputs": [],
   "source": [
    "data_bad = spark.read.json(r\"D:\\Data\\Kickstarter Data\\Kickstarter_2015-08-21.json\", encoding = 'ISO-8859-1', lineSep='\\n')"
   ]
  },
  {
   "cell_type": "code",
   "execution_count": 10,
   "id": "378e5427-6f9b-4806-9598-584876c333fd",
   "metadata": {},
   "outputs": [
    {
     "name": "stdout",
     "output_type": "stream",
     "text": [
      "root\n",
      " |-- _corrupt_record: string (nullable = true)\n",
      "\n"
     ]
    }
   ],
   "source": [
    "data_bad.printSchema()"
   ]
  },
  {
   "cell_type": "code",
   "execution_count": null,
   "id": "a0d477b2-968e-4e04-9047-871783f7ff67",
   "metadata": {},
   "outputs": [],
   "source": []
  }
 ],
 "metadata": {
  "kernelspec": {
   "display_name": "Python 3 (ipykernel)",
   "language": "python",
   "name": "python3"
  },
  "language_info": {
   "codemirror_mode": {
    "name": "ipython",
    "version": 3
   },
   "file_extension": ".py",
   "mimetype": "text/x-python",
   "name": "python",
   "nbconvert_exporter": "python",
   "pygments_lexer": "ipython3",
   "version": "3.11.7"
  }
 },
 "nbformat": 4,
 "nbformat_minor": 5
}
